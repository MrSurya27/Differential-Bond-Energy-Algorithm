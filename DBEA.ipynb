{
 "cells": [
  {
   "cell_type": "code",
   "execution_count": 3,
   "id": "11630c37",
   "metadata": {},
   "outputs": [
    {
     "name": "stdout",
     "output_type": "stream",
     "text": [
      "Best Vector: [2 2 1]\n",
      "Best Fitness: 17\n"
     ]
    }
   ],
   "source": [
    "import numpy as np\n",
    "\n",
    "def calculate_fitness(matrix, permutation):\n",
    "    fitness = np.sum([matrix[i][j] for i, j in enumerate(permutation)])\n",
    "    return fitness\n",
    "\n",
    "def initialize_population(size, n):\n",
    "    population = []\n",
    "    for _ in range(size):\n",
    "        permutation = np.random.permutation(n)\n",
    "        population.append(permutation)\n",
    "    return population\n",
    "\n",
    "def mutation(population, current_index, F):\n",
    "    r1, r2, r3 = np.random.choice(len(population), 3, replace=False)\n",
    "    mutated_vector = population[r1] + F * (population[r2] - population[r3])\n",
    "    mutated_vector = np.clip(mutated_vector, 0, len(population[0])-1)\n",
    "    mutated_vector = np.random.permutation(mutated_vector)\n",
    "    return mutated_vector\n",
    "\n",
    "def crossover(parent, mutated_vector, CR):\n",
    "    crossed_vector = np.copy(parent)\n",
    "    for i in range(len(parent)):\n",
    "        if np.random.random() < CR:\n",
    "            crossed_vector[i] = mutated_vector[i]\n",
    "    return crossed_vector\n",
    "\n",
    "def differential_evolution(matrix, population_size, generations, limit, CR, F):\n",
    "    n = len(matrix)\n",
    "    population = initialize_population(population_size, n)\n",
    "    best_fitness = float('-inf')\n",
    "    best_vector = None\n",
    "    count = 0\n",
    "\n",
    "    for gen in range(generations):\n",
    "        for i in range(population_size):\n",
    "            mutated_vector = mutation(population, i, F)\n",
    "            crossed_vector = crossover(population[i], mutated_vector, CR)\n",
    "\n",
    "            parent_fitness = calculate_fitness(matrix, population[i])\n",
    "            crossed_fitness = calculate_fitness(matrix, crossed_vector)\n",
    "\n",
    "            if crossed_fitness > parent_fitness:\n",
    "                population[i] = crossed_vector\n",
    "                if crossed_fitness > best_fitness:\n",
    "                    best_fitness = crossed_fitness\n",
    "                    best_vector = crossed_vector\n",
    "                    count = 0\n",
    "                else:\n",
    "                    count += 1\n",
    "\n",
    "        if count == limit:\n",
    "            break\n",
    "\n",
    "    return best_vector, best_fitness\n",
    "\n",
    "\n",
    "\n",
    "affinity_matrix = np.array([[1, 2, 3], [4, 5, 6], [7, 8, 9]])\n",
    "\n",
    "\n",
    "CR = 0.5\n",
    "F = 1.8\n",
    "\n",
    "\n",
    "population_size = 50\n",
    "generations = 100\n",
    "limit = 10\n",
    "\n",
    "\n",
    "best_vector, best_fitness = differential_evolution(affinity_matrix, population_size, generations, limit, CR, F)\n",
    "\n",
    "\n",
    "print(\"Best Vector:\", best_vector)\n",
    "print(\"Best Fitness:\", best_fitness)\n"
   ]
  },
  {
   "cell_type": "code",
   "execution_count": null,
   "id": "c5bf7ba4",
   "metadata": {},
   "outputs": [],
   "source": []
  }
 ],
 "metadata": {
  "kernelspec": {
   "display_name": "Python 3 (ipykernel)",
   "language": "python",
   "name": "python3"
  },
  "language_info": {
   "codemirror_mode": {
    "name": "ipython",
    "version": 3
   },
   "file_extension": ".py",
   "mimetype": "text/x-python",
   "name": "python",
   "nbconvert_exporter": "python",
   "pygments_lexer": "ipython3",
   "version": "3.9.12"
  }
 },
 "nbformat": 4,
 "nbformat_minor": 5
}
